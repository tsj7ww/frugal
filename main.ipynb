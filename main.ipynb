{
 "cells": [
  {
   "cell_type": "code",
   "execution_count": null,
   "id": "727dc714",
   "metadata": {},
   "outputs": [],
   "source": [
    "import os\n",
    "import datetime\n",
    "import json\n",
    "import time\n",
    "# web scrape\n",
    "import requests\n",
    "import bs4\n",
    "# aws\n",
    "import boto3\n",
    "# data analysis\n",
    "# pandas"
   ]
  },
  {
   "cell_type": "code",
   "execution_count": null,
   "id": "dc54cf41",
   "metadata": {},
   "outputs": [],
   "source": [
    "def CONFIG():\n",
    "    \"\"\"\"\"\"\n",
    "    \n",
    "    cwd = os.getcwd()\n",
    "    today = datetime.date.today()\n",
    "    \n",
    "    return {\n",
    "        'cwd': cwd,\n",
    "        'today': today,\n",
    "        'email': {\n",
    "            'arn': 'arn:aws:sns:us-east-1:<<AWS ACCOUNT NUMBER>>:craigslist',\n",
    "            'region': 'us-east-1',\n",
    "            'subject': 'Craigslist Scraper',\n",
    "        },\n",
    "        'search_url': 'https://{CITY}.craigslist.org/d/for-sale/search/sss?hasPic=1&sort=rel&max_price={MAX_PRICE}&min_price={MIN_PRICE}&query={ITEM}&search_distance={DISTANCE}',\n",
    "    }"
   ]
  },
  {
   "cell_type": "code",
   "execution_count": null,
   "id": "dbe7e5cc-dd29-42aa-b3d1-531e62976ae2",
   "metadata": {},
   "outputs": [],
   "source": [
    "def ITEMS():\n",
    "    \"\"\"\"\"\"\n",
    "    \n",
    "    return [\n",
    "        {\n",
    "            'item': 'Fender Jazz Bass',\n",
    "            'cities': ['washingtondc','richmond'],\n",
    "            'query': {\n",
    "                'MIN_PRICE': 300,\n",
    "                'MAX_PRICE': 900,\n",
    "                'DISTANCE': 50,\n",
    "                #'keywords': ['___','__','__'],\n",
    "            },\n",
    "        },\n",
    "    ]"
   ]
  },
  {
   "cell_type": "code",
   "execution_count": null,
   "id": "f385e6fa-6c10-4504-8a6d-b7f5247c88d9",
   "metadata": {},
   "outputs": [],
   "source": [
    "def HOUSING():\n",
    "    \"\"\"\"\"\"\n",
    "    \n",
    "    return [\n",
    "        {\n",
    "            'cities': ['___','___','___'],\n",
    "            'query': {\n",
    "                'MAX_PRICE': 1000,\n",
    "                'MIN_PRICE': 1500,\n",
    "                'DISTANCE': 50,\n",
    "                'KEYWORDS': ['___','__','__'],\n",
    "            },\n",
    "        },\n",
    "    ]"
   ]
  },
  {
   "cell_type": "code",
   "execution_count": null,
   "id": "ea4dd03e",
   "metadata": {},
   "outputs": [],
   "source": [
    "def GET_POSTS(link,keywords=None):\n",
    "    \"\"\"\"\"\"\n",
    "    \n",
    "    links = []\n",
    "    \n",
    "    r = requests.get(link)\n",
    "    soup = bs4.BeautifulSoup(r.text,'html.parser')\n",
    "    for row in soup.find_all(name='li', attrs={'class':'result-row'}):\n",
    "        links.append(row.find(name='a',attrs={'class':'result-title hdrlnk'})['href'])\n",
    "    \n",
    "    return links"
   ]
  },
  {
   "cell_type": "code",
   "execution_count": null,
   "id": "858f21e9",
   "metadata": {},
   "outputs": [],
   "source": [
    "def COMPILE(posts_dict):\n",
    "    \"\"\"\"\"\"\n",
    "    \n",
    "    s = \"\"\"\"\"\"\n",
    "    \n",
    "    for item,posts in posts_dict.items():\n",
    "        s += 'Posts for {}'.format(item)\n",
    "        for city,urls in posts.items():\n",
    "            for url in urls:\n",
    "                s += '\\n - ({CITY}) {URL}'.format(CITY=city,URL=url)\n",
    "    \n",
    "    return s"
   ]
  },
  {
   "cell_type": "code",
   "execution_count": null,
   "id": "f5bd88de",
   "metadata": {},
   "outputs": [],
   "source": [
    "def SNS(email,msg):\n",
    "    \"\"\"\"\"\"\n",
    "    \n",
    "    sns = boto3.client('sns', region_name=email['region'])\n",
    "    return sns.publish(\n",
    "        TopicArn=email['arn'],\n",
    "        Message=msg,\n",
    "        Subject=email['subject'],\n",
    "    )"
   ]
  },
  {
   "cell_type": "code",
   "execution_count": null,
   "id": "348f6538",
   "metadata": {},
   "outputs": [],
   "source": [
    "if __name__== '__main__':\n",
    "    \n",
    "    try:\n",
    "        # init\n",
    "        CFG = CONFIG()\n",
    "        POSTS = {}\n",
    "        MSG = None\n",
    "        \n",
    "        # for each item that i want\n",
    "        for item in ITEMS():\n",
    "            name = item['item']\n",
    "            POSTS[name] = {}\n",
    "            # for each city listed\n",
    "            for city in item['cities']:\n",
    "                # request craigslist search url (using filter parameters)\n",
    "                params = {'ITEM': name.replace(' ','%20'), 'CITY': city, **item['query']}\n",
    "                url = CFG['search_url'].format(**params)\n",
    "                # pull the url for individual posts and store in list\n",
    "                POSTS[name][city] = GET_POSTS(url)\n",
    "                \n",
    "        # compile info from all posts\n",
    "        MSG = COMPILE(POSTS)\n",
    "        \n",
    "        # send out sns notification\n",
    "        SNS(CFG['email'],MSG)\n",
    "        \n",
    "    except Exception as e:\n",
    "        raise"
   ]
  }
 ],
 "metadata": {
  "kernelspec": {
   "display_name": "Python 3 (ipykernel)",
   "language": "python",
   "name": "python3"
  },
  "language_info": {
   "codemirror_mode": {
    "name": "ipython",
    "version": 3
   },
   "file_extension": ".py",
   "mimetype": "text/x-python",
   "name": "python",
   "nbconvert_exporter": "python",
   "pygments_lexer": "ipython3",
   "version": "3.9.6"
  }
 },
 "nbformat": 4,
 "nbformat_minor": 5
}
