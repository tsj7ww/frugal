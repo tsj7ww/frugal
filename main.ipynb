{
 "cells": [
  {
   "cell_type": "code",
   "execution_count": 41,
   "id": "727dc714",
   "metadata": {},
   "outputs": [],
   "source": [
    "import os\n",
    "import datetime\n",
    "import json\n",
    "import time\n",
    "# web scrape\n",
    "import requests\n",
    "import bs4"
   ]
  },
  {
   "cell_type": "code",
   "execution_count": 64,
   "id": "c5da690f-275f-46f7-86c4-077f87965ab8",
   "metadata": {},
   "outputs": [],
   "source": [
    "class Finder:\n",
    "    \"\"\"\n",
    "    \"\"\"\n",
    "    \n",
    "    def __init__(self,name,item_names,price_range,cities,distance):\n",
    "        self.name = name\n",
    "        self.item_names = item_names\n",
    "        self.price_range = price_range\n",
    "        self.cities = cities\n",
    "        self.distance = distance\n",
    "        \n",
    "        self.search_url = 'https://{CITY}.craigslist.org/search/sss?hasPic=1&sort=rel&min_price={MIN_PRICE}&max_price={MAX_PRICE}&query={ITEM}&search_distance={DISTANCE}'\n",
    "        self.urls = {\n",
    "            city: [\n",
    "                self.search_url.format(\n",
    "                    CITY = city,\n",
    "                    MIN_PRICE = self.price_range[0],\n",
    "                    MAX_PRICE = self.price_range[1],\n",
    "                    ITEM = item_name.replace(' ','%20'),\n",
    "                    DISTANCE = self.distance,\n",
    "                ) for item_name in self.item_names\n",
    "            ] for city in self.cities\n",
    "        }\n",
    "        \n",
    "        self.available = []\n",
    "    \n",
    "    def run(self):\n",
    "        links = {}\n",
    "        for city,urls in self.urls.items():\n",
    "            links[city] = []\n",
    "            for url in urls:\n",
    "                r = requests.get(url)\n",
    "                soup = bs4.BeautifulSoup(r.text,'html.parser')\n",
    "                for row in soup.find_all(name='li', attrs={'class':'result-row'}):\n",
    "                    links[city].append(row.find(name='a',attrs={'class':'result-title hdrlnk'})['href'])\n",
    "        self.available = links"
   ]
  },
  {
   "cell_type": "code",
   "execution_count": null,
   "id": "e2619d37-21d0-4d53-9afe-a4676ecba963",
   "metadata": {},
   "outputs": [],
   "source": []
  },
  {
   "cell_type": "code",
   "execution_count": null,
   "id": "c42aa5dc-eb84-4869-848b-b543686cc597",
   "metadata": {},
   "outputs": [],
   "source": []
  },
  {
   "cell_type": "code",
   "execution_count": 65,
   "id": "6d17ce46-3d3f-4c9f-970a-e0b5fef93e25",
   "metadata": {},
   "outputs": [
    {
     "data": {
      "text/plain": [
       "{'washingtondc': [],\n",
       " 'richmond': ['https://richmond.craigslist.org/boa/d/mattaponi-hobie-cat-16/7486557753.html'],\n",
       " 'norfolk': ['https://richmond.craigslist.org/boa/d/mattaponi-hobie-cat-16/7486557753.html'],\n",
       " 'fredericksburg': ['https://richmond.craigslist.org/boa/d/mattaponi-hobie-cat-16/7486557753.html'],\n",
       " 'boston': ['https://worcester.craigslist.org/boa/d/bolton-hobie-cat-18/7474916279.html',\n",
       "  'https://worcester.craigslist.org/boa/d/bolton-hobie-cat-18/7474937166.html',\n",
       "  'https://providence.craigslist.org/boa/d/portsmouth-hobie-wave-with-trailer/7484852900.html',\n",
       "  'https://southcoast.craigslist.org/boa/d/portsmouth-hobie-wave-catamaran-with/7484848833.html']}"
      ]
     },
     "execution_count": 65,
     "metadata": {},
     "output_type": "execute_result"
    }
   ],
   "source": [
    "hobie_params = {\n",
    "    'name': 'hobie cat',\n",
    "    'price_range': (2000,5000),\n",
    "    'cities': ['washingtondc','richmond','norfolk','fredericksburg','boston',],\n",
    "    'distance': '50',\n",
    "    'item_names': ['hobie cat','hobie cat wave 16']\n",
    "}\n",
    "hobie = Finder(**hobie_params)\n",
    "hobie.run()\n",
    "hobie.available"
   ]
  },
  {
   "cell_type": "code",
   "execution_count": null,
   "id": "76d82a89-17fc-439c-8441-23c8a9cfa75b",
   "metadata": {},
   "outputs": [],
   "source": []
  },
  {
   "cell_type": "code",
   "execution_count": null,
   "id": "199ab68f-b83f-425f-a04e-34434edcce3e",
   "metadata": {},
   "outputs": [],
   "source": []
  },
  {
   "cell_type": "code",
   "execution_count": null,
   "id": "7d1446e5-7b40-4f74-8634-a23c4d13c14a",
   "metadata": {},
   "outputs": [],
   "source": []
  }
 ],
 "metadata": {
  "kernelspec": {
   "display_name": "Python 3 (ipykernel)",
   "language": "python",
   "name": "python3"
  },
  "language_info": {
   "codemirror_mode": {
    "name": "ipython",
    "version": 3
   },
   "file_extension": ".py",
   "mimetype": "text/x-python",
   "name": "python",
   "nbconvert_exporter": "python",
   "pygments_lexer": "ipython3",
   "version": "3.9.12"
  }
 },
 "nbformat": 4,
 "nbformat_minor": 5
}
