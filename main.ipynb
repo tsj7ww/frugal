{
 "cells": [
  {
   "cell_type": "code",
   "execution_count": null,
   "id": "727dc714",
   "metadata": {},
   "outputs": [],
   "source": [
    "import os\n",
    "import datetime\n",
    "# https://github.com/narfman0/craigslist-scraper\n",
    "from craigslist_scraper import scrape_url"
   ]
  },
  {
   "cell_type": "code",
   "execution_count": null,
   "id": "dc54cf41",
   "metadata": {},
   "outputs": [],
   "source": [
    "def CONFIG():\n",
    "    \"\"\"\"\"\"\n",
    "    cwd = os.getcwd()\n",
    "    today = datetime.date.today()\n",
    "    \n",
    "    email = {\n",
    "        'name': '',\n",
    "        'email': ''\n",
    "    }\n",
    "    \n",
    "    return {\n",
    "        'cwd': cwd,\n",
    "        'today': today,\n",
    "        'sns': {},\n",
    "        'search_url': 'https://washingtondc.craigslist.org/d/for-sale/search/sss?hasPic=1&max_price=100&min_price=10&query=couch&search_distance=50&sort=rel',\n",
    "        'items': [\n",
    "            {\n",
    "                'name': '___',\n",
    "                'cities': ['___','___','___'],\n",
    "                'price_range': (1,2),\n",
    "                'brands': ['___','__','__'],\n",
    "                'max_dist': 50,\n",
    "                \n",
    "                \n",
    "            }\n",
    "        ],\n",
    "    }"
   ]
  },
  {
   "cell_type": "code",
   "execution_count": null,
   "id": "ea4dd03e",
   "metadata": {},
   "outputs": [],
   "source": [
    "def GET_POSTS():\n",
    "    \"\"\"\"\"\"\n",
    "    \n",
    "    \n",
    "    return None"
   ]
  },
  {
   "cell_type": "code",
   "execution_count": null,
   "id": "858f21e9",
   "metadata": {},
   "outputs": [],
   "source": [
    "def COMPILE():\n",
    "    \"\"\"\"\"\"\n",
    "    \n",
    "    \n",
    "    return None"
   ]
  },
  {
   "cell_type": "code",
   "execution_count": null,
   "id": "f5bd88de",
   "metadata": {},
   "outputs": [],
   "source": [
    "def SNS():\n",
    "    \"\"\"\"\"\"\n",
    "    \n",
    "    \n",
    "    return None"
   ]
  },
  {
   "cell_type": "code",
   "execution_count": null,
   "id": "b79102ff",
   "metadata": {},
   "outputs": [],
   "source": []
  },
  {
   "cell_type": "code",
   "execution_count": null,
   "id": "dd8566a4",
   "metadata": {},
   "outputs": [],
   "source": []
  },
  {
   "cell_type": "code",
   "execution_count": null,
   "id": "348f6538",
   "metadata": {},
   "outputs": [],
   "source": [
    "if __name__== '__main__':\n",
    "    \n",
    "    try:\n",
    "        post = scrape_url('')\n",
    "        print(post.title)\n",
    "        print(dir(post))\n",
    "        \n",
    "    except Exception as e:\n",
    "        raise"
   ]
  },
  {
   "cell_type": "code",
   "execution_count": null,
   "id": "e7cf7c07",
   "metadata": {},
   "outputs": [],
   "source": []
  },
  {
   "cell_type": "code",
   "execution_count": null,
   "id": "bb30d55f",
   "metadata": {},
   "outputs": [],
   "source": []
  },
  {
   "cell_type": "code",
   "execution_count": null,
   "id": "2b371302",
   "metadata": {},
   "outputs": [],
   "source": []
  },
  {
   "cell_type": "code",
   "execution_count": null,
   "id": "b21f7906",
   "metadata": {},
   "outputs": [],
   "source": []
  },
  {
   "cell_type": "code",
   "execution_count": null,
   "id": "62b3b5d8",
   "metadata": {},
   "outputs": [],
   "source": []
  },
  {
   "cell_type": "code",
   "execution_count": null,
   "id": "dc3bd196",
   "metadata": {},
   "outputs": [],
   "source": []
  },
  {
   "cell_type": "code",
   "execution_count": null,
   "id": "2b9925a7",
   "metadata": {},
   "outputs": [],
   "source": []
  },
  {
   "cell_type": "code",
   "execution_count": null,
   "id": "4dca93a2",
   "metadata": {},
   "outputs": [],
   "source": []
  },
  {
   "cell_type": "code",
   "execution_count": null,
   "id": "c9014893",
   "metadata": {},
   "outputs": [],
   "source": []
  },
  {
   "cell_type": "code",
   "execution_count": null,
   "id": "d7fb45ae",
   "metadata": {},
   "outputs": [],
   "source": []
  },
  {
   "cell_type": "code",
   "execution_count": null,
   "id": "c604afa7",
   "metadata": {},
   "outputs": [],
   "source": []
  }
 ],
 "metadata": {
  "kernelspec": {
   "display_name": "Python 3",
   "language": "python",
   "name": "python3"
  },
  "language_info": {
   "codemirror_mode": {
    "name": "ipython",
    "version": 3
   },
   "file_extension": ".py",
   "mimetype": "text/x-python",
   "name": "python",
   "nbconvert_exporter": "python",
   "pygments_lexer": "ipython3",
   "version": "3.9.1"
  }
 },
 "nbformat": 4,
 "nbformat_minor": 5
}
